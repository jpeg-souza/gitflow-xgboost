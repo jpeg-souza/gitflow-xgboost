{
 "cells": [
  {
   "cell_type": "code",
   "execution_count": 47,
   "metadata": {},
   "outputs": [],
   "source": [
    "import os\n",
    "import numpy as np\n",
    "import pandas as pd\n",
    "import seaborn as sns\n",
    "import matplotlib.pyplot as plt\n",
    "%matplotlib inline\n",
    "\n",
    "import warnings\n",
    "warnings.filterwarnings('ignore')\n",
    "\n",
    "seed_number = 123"
   ]
  },
  {
   "cell_type": "code",
   "execution_count": 24,
   "metadata": {},
   "outputs": [
    {
     "data": {
      "text/plain": [
       "'/home/pedro/Downloads/xgboost'"
      ]
     },
     "execution_count": 24,
     "metadata": {},
     "output_type": "execute_result"
    }
   ],
   "source": [
    "main_dir = os.path.abspath(os.getcwd())\n",
    "\n",
    "main_dir"
   ]
  },
  {
   "cell_type": "markdown",
   "metadata": {},
   "source": [
    "### ETAPA 1: lendo a base de dados"
   ]
  },
  {
   "cell_type": "code",
   "execution_count": 25,
   "metadata": {},
   "outputs": [
    {
     "data": {
      "text/plain": [
       "((113754, 24), (28439, 24))"
      ]
     },
     "execution_count": 25,
     "metadata": {},
     "output_type": "execute_result"
    }
   ],
   "source": [
    "train = pd.read_csv(f'{main_dir}/input/train.csv')\n",
    "test = pd.read_csv(f'{main_dir}/input/test.csv')\n",
    "train.shape, test.shape"
   ]
  },
  {
   "cell_type": "code",
   "execution_count": 26,
   "metadata": {},
   "outputs": [
    {
     "data": {
      "text/plain": [
       "Index(['Cloud3pm', 'Cloud9am', 'Date', 'Evaporation', 'Humidity3pm',\n",
       "       'Humidity9am', 'Id', 'Location', 'MaxTemp', 'MinTemp', 'Pressure3pm',\n",
       "       'Pressure9am', 'RainToday', 'RainTomorrow', 'Rainfall', 'Sunshine',\n",
       "       'Temp3pm', 'Temp9am', 'WindDir3pm', 'WindDir9am', 'WindGustDir',\n",
       "       'WindGustSpeed', 'WindSpeed3pm', 'WindSpeed9am'],\n",
       "      dtype='object')"
      ]
     },
     "execution_count": 26,
     "metadata": {},
     "output_type": "execute_result"
    }
   ],
   "source": [
    "data = pd.concat([train,test],sort=True)\n",
    "data.columns"
   ]
  },
  {
   "cell_type": "code",
   "execution_count": 27,
   "metadata": {},
   "outputs": [
    {
     "data": {
      "text/plain": [
       "((142193, 24),\n",
       " Index(['Cloud3pm', 'Cloud9am', 'Date', 'Evaporation', 'Humidity3pm',\n",
       "        'Humidity9am', 'Id', 'Location', 'MaxTemp', 'MinTemp', 'Pressure3pm',\n",
       "        'Pressure9am', 'RainToday', 'RainTomorrow', 'Rainfall', 'Sunshine',\n",
       "        'Temp3pm', 'Temp9am', 'WindDir3pm', 'WindDir9am', 'WindGustDir',\n",
       "        'WindGustSpeed', 'WindSpeed3pm', 'WindSpeed9am'],\n",
       "       dtype='object'))"
      ]
     },
     "execution_count": 27,
     "metadata": {},
     "output_type": "execute_result"
    }
   ],
   "source": [
    "data.shape, data.columns"
   ]
  },
  {
   "cell_type": "code",
   "execution_count": 42,
   "metadata": {},
   "outputs": [
    {
     "data": {
      "text/html": [
       "<div>\n",
       "<style scoped>\n",
       "    .dataframe tbody tr th:only-of-type {\n",
       "        vertical-align: middle;\n",
       "    }\n",
       "\n",
       "    .dataframe tbody tr th {\n",
       "        vertical-align: top;\n",
       "    }\n",
       "\n",
       "    .dataframe thead th {\n",
       "        text-align: right;\n",
       "    }\n",
       "</style>\n",
       "<table border=\"1\" class=\"dataframe\">\n",
       "  <thead>\n",
       "    <tr style=\"text-align: right;\">\n",
       "      <th></th>\n",
       "      <th>Cloud3pm</th>\n",
       "      <th>Cloud9am</th>\n",
       "      <th>Evaporation</th>\n",
       "      <th>Humidity3pm</th>\n",
       "      <th>Humidity9am</th>\n",
       "      <th>MaxTemp</th>\n",
       "      <th>MinTemp</th>\n",
       "      <th>Pressure3pm</th>\n",
       "      <th>Pressure9am</th>\n",
       "      <th>RainToday</th>\n",
       "      <th>RainTomorrow</th>\n",
       "      <th>Rainfall</th>\n",
       "      <th>Temp3pm</th>\n",
       "      <th>Temp9am</th>\n",
       "      <th>WindGustSpeed</th>\n",
       "      <th>WindSpeed3pm</th>\n",
       "      <th>WindSpeed9am</th>\n",
       "    </tr>\n",
       "  </thead>\n",
       "  <tbody>\n",
       "    <tr>\n",
       "      <th>0</th>\n",
       "      <td>NaN</td>\n",
       "      <td>NaN</td>\n",
       "      <td>NaN</td>\n",
       "      <td>25.0</td>\n",
       "      <td>44.0</td>\n",
       "      <td>25.1</td>\n",
       "      <td>7.4</td>\n",
       "      <td>1007.8</td>\n",
       "      <td>1010.6</td>\n",
       "      <td>No</td>\n",
       "      <td>No</td>\n",
       "      <td>0.0</td>\n",
       "      <td>24.3</td>\n",
       "      <td>17.2</td>\n",
       "      <td>44.0</td>\n",
       "      <td>22.0</td>\n",
       "      <td>4.0</td>\n",
       "    </tr>\n",
       "    <tr>\n",
       "      <th>1</th>\n",
       "      <td>2.0</td>\n",
       "      <td>NaN</td>\n",
       "      <td>NaN</td>\n",
       "      <td>30.0</td>\n",
       "      <td>38.0</td>\n",
       "      <td>25.7</td>\n",
       "      <td>12.9</td>\n",
       "      <td>1008.7</td>\n",
       "      <td>1007.6</td>\n",
       "      <td>No</td>\n",
       "      <td>No</td>\n",
       "      <td>0.0</td>\n",
       "      <td>23.2</td>\n",
       "      <td>21.0</td>\n",
       "      <td>46.0</td>\n",
       "      <td>26.0</td>\n",
       "      <td>19.0</td>\n",
       "    </tr>\n",
       "    <tr>\n",
       "      <th>2</th>\n",
       "      <td>NaN</td>\n",
       "      <td>NaN</td>\n",
       "      <td>NaN</td>\n",
       "      <td>16.0</td>\n",
       "      <td>45.0</td>\n",
       "      <td>28.0</td>\n",
       "      <td>9.2</td>\n",
       "      <td>1012.8</td>\n",
       "      <td>1017.6</td>\n",
       "      <td>No</td>\n",
       "      <td>No</td>\n",
       "      <td>0.0</td>\n",
       "      <td>26.5</td>\n",
       "      <td>18.1</td>\n",
       "      <td>24.0</td>\n",
       "      <td>9.0</td>\n",
       "      <td>11.0</td>\n",
       "    </tr>\n",
       "    <tr>\n",
       "      <th>3</th>\n",
       "      <td>NaN</td>\n",
       "      <td>NaN</td>\n",
       "      <td>NaN</td>\n",
       "      <td>23.0</td>\n",
       "      <td>55.0</td>\n",
       "      <td>29.7</td>\n",
       "      <td>14.6</td>\n",
       "      <td>1005.4</td>\n",
       "      <td>1009.2</td>\n",
       "      <td>No</td>\n",
       "      <td>No</td>\n",
       "      <td>0.2</td>\n",
       "      <td>28.9</td>\n",
       "      <td>20.6</td>\n",
       "      <td>56.0</td>\n",
       "      <td>24.0</td>\n",
       "      <td>19.0</td>\n",
       "    </tr>\n",
       "    <tr>\n",
       "      <th>4</th>\n",
       "      <td>NaN</td>\n",
       "      <td>NaN</td>\n",
       "      <td>NaN</td>\n",
       "      <td>19.0</td>\n",
       "      <td>48.0</td>\n",
       "      <td>26.7</td>\n",
       "      <td>7.7</td>\n",
       "      <td>1010.1</td>\n",
       "      <td>1013.4</td>\n",
       "      <td>No</td>\n",
       "      <td>No</td>\n",
       "      <td>0.0</td>\n",
       "      <td>25.5</td>\n",
       "      <td>16.3</td>\n",
       "      <td>35.0</td>\n",
       "      <td>17.0</td>\n",
       "      <td>6.0</td>\n",
       "    </tr>\n",
       "  </tbody>\n",
       "</table>\n",
       "</div>"
      ],
      "text/plain": [
       "   Cloud3pm  Cloud9am  Evaporation  Humidity3pm  Humidity9am  MaxTemp  \\\n",
       "0       NaN       NaN          NaN         25.0         44.0     25.1   \n",
       "1       2.0       NaN          NaN         30.0         38.0     25.7   \n",
       "2       NaN       NaN          NaN         16.0         45.0     28.0   \n",
       "3       NaN       NaN          NaN         23.0         55.0     29.7   \n",
       "4       NaN       NaN          NaN         19.0         48.0     26.7   \n",
       "\n",
       "   MinTemp  Pressure3pm  Pressure9am RainToday RainTomorrow  Rainfall  \\\n",
       "0      7.4       1007.8       1010.6        No           No       0.0   \n",
       "1     12.9       1008.7       1007.6        No           No       0.0   \n",
       "2      9.2       1012.8       1017.6        No           No       0.0   \n",
       "3     14.6       1005.4       1009.2        No           No       0.2   \n",
       "4      7.7       1010.1       1013.4        No           No       0.0   \n",
       "\n",
       "   Temp3pm  Temp9am  WindGustSpeed  WindSpeed3pm  WindSpeed9am  \n",
       "0     24.3     17.2           44.0          22.0           4.0  \n",
       "1     23.2     21.0           46.0          26.0          19.0  \n",
       "2     26.5     18.1           24.0           9.0          11.0  \n",
       "3     28.9     20.6           56.0          24.0          19.0  \n",
       "4     25.5     16.3           35.0          17.0           6.0  "
      ]
     },
     "execution_count": 42,
     "metadata": {},
     "output_type": "execute_result"
    }
   ],
   "source": [
    "data.head()"
   ]
  },
  {
   "cell_type": "code",
   "execution_count": 35,
   "metadata": {},
   "outputs": [
    {
     "data": {
      "text/html": [
       "<div>\n",
       "<style scoped>\n",
       "    .dataframe tbody tr th:only-of-type {\n",
       "        vertical-align: middle;\n",
       "    }\n",
       "\n",
       "    .dataframe tbody tr th {\n",
       "        vertical-align: top;\n",
       "    }\n",
       "\n",
       "    .dataframe thead th {\n",
       "        text-align: right;\n",
       "    }\n",
       "</style>\n",
       "<table border=\"1\" class=\"dataframe\">\n",
       "  <thead>\n",
       "    <tr style=\"text-align: right;\">\n",
       "      <th></th>\n",
       "      <th>Cloud3pm</th>\n",
       "      <th>Cloud9am</th>\n",
       "      <th>Evaporation</th>\n",
       "      <th>Humidity3pm</th>\n",
       "      <th>Humidity9am</th>\n",
       "      <th>MaxTemp</th>\n",
       "      <th>MinTemp</th>\n",
       "      <th>Pressure3pm</th>\n",
       "      <th>Pressure9am</th>\n",
       "      <th>Rainfall</th>\n",
       "      <th>Sunshine</th>\n",
       "      <th>Temp3pm</th>\n",
       "      <th>Temp9am</th>\n",
       "      <th>WindGustSpeed</th>\n",
       "      <th>WindSpeed3pm</th>\n",
       "      <th>WindSpeed9am</th>\n",
       "    </tr>\n",
       "  </thead>\n",
       "  <tbody>\n",
       "    <tr>\n",
       "      <th>count</th>\n",
       "      <td>84693.000000</td>\n",
       "      <td>88162.000000</td>\n",
       "      <td>81093.000000</td>\n",
       "      <td>137286.000000</td>\n",
       "      <td>139270.000000</td>\n",
       "      <td>140480.00000</td>\n",
       "      <td>140319.000000</td>\n",
       "      <td>127018.000000</td>\n",
       "      <td>127044.000000</td>\n",
       "      <td>140787.000000</td>\n",
       "      <td>73982.000000</td>\n",
       "      <td>138163.000000</td>\n",
       "      <td>140131.000000</td>\n",
       "      <td>131682.000000</td>\n",
       "      <td>138256.000000</td>\n",
       "      <td>139732.000000</td>\n",
       "    </tr>\n",
       "    <tr>\n",
       "      <th>mean</th>\n",
       "      <td>4.499250</td>\n",
       "      <td>4.431161</td>\n",
       "      <td>5.472516</td>\n",
       "      <td>51.449288</td>\n",
       "      <td>68.826833</td>\n",
       "      <td>23.23512</td>\n",
       "      <td>12.184824</td>\n",
       "      <td>1015.257963</td>\n",
       "      <td>1017.654577</td>\n",
       "      <td>2.349974</td>\n",
       "      <td>7.630540</td>\n",
       "      <td>21.693183</td>\n",
       "      <td>16.987066</td>\n",
       "      <td>39.970520</td>\n",
       "      <td>18.631141</td>\n",
       "      <td>13.990496</td>\n",
       "    </tr>\n",
       "    <tr>\n",
       "      <th>std</th>\n",
       "      <td>2.719752</td>\n",
       "      <td>2.886594</td>\n",
       "      <td>4.189132</td>\n",
       "      <td>20.807310</td>\n",
       "      <td>19.063650</td>\n",
       "      <td>7.11450</td>\n",
       "      <td>6.403879</td>\n",
       "      <td>7.035411</td>\n",
       "      <td>7.104867</td>\n",
       "      <td>8.465173</td>\n",
       "      <td>3.781729</td>\n",
       "      <td>6.937784</td>\n",
       "      <td>6.496012</td>\n",
       "      <td>13.578201</td>\n",
       "      <td>8.798096</td>\n",
       "      <td>8.886210</td>\n",
       "    </tr>\n",
       "    <tr>\n",
       "      <th>min</th>\n",
       "      <td>0.000000</td>\n",
       "      <td>0.000000</td>\n",
       "      <td>0.000000</td>\n",
       "      <td>0.000000</td>\n",
       "      <td>0.000000</td>\n",
       "      <td>-4.80000</td>\n",
       "      <td>-8.500000</td>\n",
       "      <td>977.100000</td>\n",
       "      <td>980.500000</td>\n",
       "      <td>0.000000</td>\n",
       "      <td>0.000000</td>\n",
       "      <td>-5.400000</td>\n",
       "      <td>-7.200000</td>\n",
       "      <td>6.000000</td>\n",
       "      <td>0.000000</td>\n",
       "      <td>0.000000</td>\n",
       "    </tr>\n",
       "    <tr>\n",
       "      <th>25%</th>\n",
       "      <td>2.000000</td>\n",
       "      <td>1.000000</td>\n",
       "      <td>2.600000</td>\n",
       "      <td>37.000000</td>\n",
       "      <td>57.000000</td>\n",
       "      <td>17.90000</td>\n",
       "      <td>7.600000</td>\n",
       "      <td>1010.400000</td>\n",
       "      <td>1013.000000</td>\n",
       "      <td>0.000000</td>\n",
       "      <td>4.900000</td>\n",
       "      <td>16.600000</td>\n",
       "      <td>12.300000</td>\n",
       "      <td>31.000000</td>\n",
       "      <td>13.000000</td>\n",
       "      <td>7.000000</td>\n",
       "    </tr>\n",
       "    <tr>\n",
       "      <th>50%</th>\n",
       "      <td>5.000000</td>\n",
       "      <td>5.000000</td>\n",
       "      <td>4.800000</td>\n",
       "      <td>52.000000</td>\n",
       "      <td>70.000000</td>\n",
       "      <td>22.60000</td>\n",
       "      <td>12.000000</td>\n",
       "      <td>1015.200000</td>\n",
       "      <td>1017.600000</td>\n",
       "      <td>0.000000</td>\n",
       "      <td>8.500000</td>\n",
       "      <td>21.100000</td>\n",
       "      <td>16.700000</td>\n",
       "      <td>39.000000</td>\n",
       "      <td>19.000000</td>\n",
       "      <td>13.000000</td>\n",
       "    </tr>\n",
       "    <tr>\n",
       "      <th>75%</th>\n",
       "      <td>7.000000</td>\n",
       "      <td>7.000000</td>\n",
       "      <td>7.400000</td>\n",
       "      <td>66.000000</td>\n",
       "      <td>83.000000</td>\n",
       "      <td>28.30000</td>\n",
       "      <td>16.800000</td>\n",
       "      <td>1020.000000</td>\n",
       "      <td>1022.400000</td>\n",
       "      <td>0.800000</td>\n",
       "      <td>10.700000</td>\n",
       "      <td>26.400000</td>\n",
       "      <td>21.600000</td>\n",
       "      <td>48.000000</td>\n",
       "      <td>24.000000</td>\n",
       "      <td>19.000000</td>\n",
       "    </tr>\n",
       "    <tr>\n",
       "      <th>max</th>\n",
       "      <td>9.000000</td>\n",
       "      <td>9.000000</td>\n",
       "      <td>145.000000</td>\n",
       "      <td>100.000000</td>\n",
       "      <td>100.000000</td>\n",
       "      <td>48.10000</td>\n",
       "      <td>33.900000</td>\n",
       "      <td>1039.600000</td>\n",
       "      <td>1041.000000</td>\n",
       "      <td>371.000000</td>\n",
       "      <td>14.500000</td>\n",
       "      <td>46.700000</td>\n",
       "      <td>40.200000</td>\n",
       "      <td>135.000000</td>\n",
       "      <td>87.000000</td>\n",
       "      <td>130.000000</td>\n",
       "    </tr>\n",
       "  </tbody>\n",
       "</table>\n",
       "</div>"
      ],
      "text/plain": [
       "           Cloud3pm      Cloud9am   Evaporation    Humidity3pm    Humidity9am  \\\n",
       "count  84693.000000  88162.000000  81093.000000  137286.000000  139270.000000   \n",
       "mean       4.499250      4.431161      5.472516      51.449288      68.826833   \n",
       "std        2.719752      2.886594      4.189132      20.807310      19.063650   \n",
       "min        0.000000      0.000000      0.000000       0.000000       0.000000   \n",
       "25%        2.000000      1.000000      2.600000      37.000000      57.000000   \n",
       "50%        5.000000      5.000000      4.800000      52.000000      70.000000   \n",
       "75%        7.000000      7.000000      7.400000      66.000000      83.000000   \n",
       "max        9.000000      9.000000    145.000000     100.000000     100.000000   \n",
       "\n",
       "            MaxTemp        MinTemp    Pressure3pm    Pressure9am  \\\n",
       "count  140480.00000  140319.000000  127018.000000  127044.000000   \n",
       "mean       23.23512      12.184824    1015.257963    1017.654577   \n",
       "std         7.11450       6.403879       7.035411       7.104867   \n",
       "min        -4.80000      -8.500000     977.100000     980.500000   \n",
       "25%        17.90000       7.600000    1010.400000    1013.000000   \n",
       "50%        22.60000      12.000000    1015.200000    1017.600000   \n",
       "75%        28.30000      16.800000    1020.000000    1022.400000   \n",
       "max        48.10000      33.900000    1039.600000    1041.000000   \n",
       "\n",
       "            Rainfall      Sunshine        Temp3pm        Temp9am  \\\n",
       "count  140787.000000  73982.000000  138163.000000  140131.000000   \n",
       "mean        2.349974      7.630540      21.693183      16.987066   \n",
       "std         8.465173      3.781729       6.937784       6.496012   \n",
       "min         0.000000      0.000000      -5.400000      -7.200000   \n",
       "25%         0.000000      4.900000      16.600000      12.300000   \n",
       "50%         0.000000      8.500000      21.100000      16.700000   \n",
       "75%         0.800000     10.700000      26.400000      21.600000   \n",
       "max       371.000000     14.500000      46.700000      40.200000   \n",
       "\n",
       "       WindGustSpeed   WindSpeed3pm   WindSpeed9am  \n",
       "count  131682.000000  138256.000000  139732.000000  \n",
       "mean       39.970520      18.631141      13.990496  \n",
       "std        13.578201       8.798096       8.886210  \n",
       "min         6.000000       0.000000       0.000000  \n",
       "25%        31.000000      13.000000       7.000000  \n",
       "50%        39.000000      19.000000      13.000000  \n",
       "75%        48.000000      24.000000      19.000000  \n",
       "max       135.000000      87.000000     130.000000  "
      ]
     },
     "execution_count": 35,
     "metadata": {},
     "output_type": "execute_result"
    }
   ],
   "source": [
    "data.describe()"
   ]
  },
  {
   "cell_type": "code",
   "execution_count": 22,
   "metadata": {},
   "outputs": [
    {
     "data": {
      "text/html": [
       "<div>\n",
       "<style scoped>\n",
       "    .dataframe tbody tr th:only-of-type {\n",
       "        vertical-align: middle;\n",
       "    }\n",
       "\n",
       "    .dataframe tbody tr th {\n",
       "        vertical-align: top;\n",
       "    }\n",
       "\n",
       "    .dataframe thead th {\n",
       "        text-align: right;\n",
       "    }\n",
       "</style>\n",
       "<table border=\"1\" class=\"dataframe\">\n",
       "  <thead>\n",
       "    <tr style=\"text-align: right;\">\n",
       "      <th></th>\n",
       "      <th>Data</th>\n",
       "      <th>Localizacao</th>\n",
       "      <th>ChoveHoje</th>\n",
       "      <th>ChoveAmanha</th>\n",
       "      <th>DirecaoVento15h</th>\n",
       "      <th>DirecaoVento9h</th>\n",
       "      <th>RajadadeVentoDirecao</th>\n",
       "    </tr>\n",
       "  </thead>\n",
       "  <tbody>\n",
       "    <tr>\n",
       "      <th>count</th>\n",
       "      <td>142193</td>\n",
       "      <td>142193</td>\n",
       "      <td>140787</td>\n",
       "      <td>142193</td>\n",
       "      <td>138415</td>\n",
       "      <td>132180</td>\n",
       "      <td>132863</td>\n",
       "    </tr>\n",
       "    <tr>\n",
       "      <th>unique</th>\n",
       "      <td>3436</td>\n",
       "      <td>49</td>\n",
       "      <td>2</td>\n",
       "      <td>2</td>\n",
       "      <td>16</td>\n",
       "      <td>16</td>\n",
       "      <td>16</td>\n",
       "    </tr>\n",
       "    <tr>\n",
       "      <th>top</th>\n",
       "      <td>2017-05-10</td>\n",
       "      <td>Canberra</td>\n",
       "      <td>No</td>\n",
       "      <td>No</td>\n",
       "      <td>SE</td>\n",
       "      <td>N</td>\n",
       "      <td>W</td>\n",
       "    </tr>\n",
       "    <tr>\n",
       "      <th>freq</th>\n",
       "      <td>49</td>\n",
       "      <td>3418</td>\n",
       "      <td>109332</td>\n",
       "      <td>110316</td>\n",
       "      <td>10663</td>\n",
       "      <td>11393</td>\n",
       "      <td>9780</td>\n",
       "    </tr>\n",
       "  </tbody>\n",
       "</table>\n",
       "</div>"
      ],
      "text/plain": [
       "              Data Localizacao ChoveHoje ChoveAmanha DirecaoVento15h  \\\n",
       "count       142193      142193    140787      142193          138415   \n",
       "unique        3436          49         2           2              16   \n",
       "top     2017-05-10    Canberra        No          No              SE   \n",
       "freq            49        3418    109332      110316           10663   \n",
       "\n",
       "       DirecaoVento9h RajadadeVentoDirecao  \n",
       "count          132180               132863  \n",
       "unique             16                   16  \n",
       "top                 N                    W  \n",
       "freq            11393                 9780  "
      ]
     },
     "execution_count": 22,
     "metadata": {},
     "output_type": "execute_result"
    }
   ],
   "source": [
    "data.describe(include=['O'])"
   ]
  },
  {
   "cell_type": "code",
   "execution_count": 28,
   "metadata": {},
   "outputs": [
    {
     "name": "stdout",
     "output_type": "stream",
     "text": [
      "['Cloud3pm', 'Cloud9am', 'Evaporation', 'Humidity3pm', 'Humidity9am', 'Id', 'MaxTemp', 'MinTemp', 'Pressure3pm', 'Pressure9am', 'Rainfall', 'Sunshine', 'Temp3pm', 'Temp9am', 'WindGustSpeed', 'WindSpeed3pm', 'WindSpeed9am']\n"
     ]
    }
   ],
   "source": [
    "# checando quais atributos são numéricos (não consegui exibir o dataframe inteiro no vscode)\n",
    "numerics =  data.select_dtypes(include = np.number).columns.to_list()\n",
    "print(numerics)\n",
    "\n",
    "\"\"\"\n",
    "17 atributos numéricos no total\n",
    "\"\"\""
   ]
  },
  {
   "cell_type": "code",
   "execution_count": 30,
   "metadata": {},
   "outputs": [
    {
     "name": "stdout",
     "output_type": "stream",
     "text": [
      "['Date', 'Location', 'RainToday', 'RainTomorrow', 'WindDir3pm', 'WindDir9am', 'WindGustDir']\n"
     ]
    }
   ],
   "source": [
    "#checando atributos categoricos\n",
    "categorical = data.select_dtypes('object').columns.to_list()\n",
    "print(categorical)\n",
    "\n",
    "\"\"\"\n",
    "7 atributos categóricos\n",
    "\"\"\""
   ]
  },
  {
   "cell_type": "markdown",
   "metadata": {},
   "source": [
    "### Etapa 2: Limpeza e preparação dos Dados"
   ]
  },
  {
   "cell_type": "code",
   "execution_count": null,
   "metadata": {},
   "outputs": [],
   "source": [
    "# o ID é inútil pq só atribui um valor unico pra a instancia do dado então vou dropar\n",
    "data.drop(\"Id\", axis=1, inplace=True)\n",
    "data"
   ]
  },
  {
   "cell_type": "code",
   "execution_count": 34,
   "metadata": {},
   "outputs": [
    {
     "data": {
      "text/plain": [
       "Sunshine         66805\n",
       "Evaporation      59694\n",
       "Cloud3pm         56094\n",
       "Cloud9am         52625\n",
       "Pressure3pm      13769\n",
       "Pressure9am      13743\n",
       "WindDir9am        9660\n",
       "WindGustDir       9163\n",
       "WindGustSpeed     9105\n",
       "WindDir3pm        3670\n",
       "Humidity3pm       3501\n",
       "Temp3pm           2624\n",
       "WindSpeed3pm      2531\n",
       "Humidity9am       1517\n",
       "WindSpeed9am      1055\n",
       "Temp9am            656\n",
       "MinTemp            468\n",
       "MaxTemp            307\n",
       "Rainfall             0\n",
       "RainTomorrow         0\n",
       "Location             0\n",
       "Date                 0\n",
       "RainToday            0\n",
       "dtype: int64"
      ]
     },
     "execution_count": 34,
     "metadata": {},
     "output_type": "execute_result"
    }
   ],
   "source": [
    "# verificando valores nulos\n",
    "data.isna().sum().sort_values(ascending = False)"
   ]
  },
  {
   "cell_type": "code",
   "execution_count": 33,
   "metadata": {},
   "outputs": [],
   "source": [
    "# tem 1406 nulos em RainToday. Pode afetar no treinamento. Dropando...\n",
    "data.dropna(subset = [\"RainToday\"], inplace = True)"
   ]
  },
  {
   "cell_type": "code",
   "execution_count": 36,
   "metadata": {},
   "outputs": [],
   "source": [
    "# Dropando Date e Location por serem categoricas e não contribuírem muito pra o resultado (não sem muito pré-processamento e análise geográfica e climatológica que eu não tenho conhecimento)\n",
    "# Dropando Sunshine por estar mais da metade nula, então não enxergo a imputação como solução boa (Pode produzir dados irreais demais)\n",
    "# Dropando WindDir(todos) por envolver análise geográfica que eu não tenho conhecimento (fora que são categóricos)\n",
    "data.drop(['Date', 'Sunshine', 'Location', 'WindDir3pm', 'WindDir9am', 'WindGustDir'], axis=1, inplace=True) "
   ]
  },
  {
   "cell_type": "code",
   "execution_count": 45,
   "metadata": {},
   "outputs": [
    {
     "data": {
      "text/plain": [
       "Cloud3pm         0\n",
       "Cloud9am         0\n",
       "Evaporation      0\n",
       "Humidity3pm      0\n",
       "Humidity9am      0\n",
       "MaxTemp          0\n",
       "MinTemp          0\n",
       "Pressure3pm      0\n",
       "Pressure9am      0\n",
       "RainToday        0\n",
       "RainTomorrow     0\n",
       "Rainfall         0\n",
       "Temp3pm          0\n",
       "Temp9am          0\n",
       "WindGustSpeed    0\n",
       "WindSpeed3pm     0\n",
       "WindSpeed9am     0\n",
       "dtype: int64"
      ]
     },
     "execution_count": 45,
     "metadata": {},
     "output_type": "execute_result"
    }
   ],
   "source": [
    "# checando de novo pra ver como tá a base de dados\n",
    "data.isnull().sum()"
   ]
  },
  {
   "cell_type": "code",
   "execution_count": 44,
   "metadata": {},
   "outputs": [],
   "source": [
    "# Agora será necessário fazer imputação dos resultados nulos\n",
    "\n",
    "# Evaporation eu considero um dado muito importante pra dropar, apesar da quantidade de nulos. Acho que se imputar a moda fica mais próximo da realidade\n",
    "# Cloud e Humidity por serem inteiras\n",
    "data['Evaporation'].fillna(data['Evaporation'].mode()[0], inplace=True)\n",
    "data['Cloud3pm'].fillna(data['Cloud3pm'].mode()[0], inplace=True)\n",
    "data['Cloud9am'].fillna(data['Cloud9am'].mode()[0], inplace=True)\n",
    "data['Humidity3pm'].fillna(data['Humidity3pm'].mode()[0], inplace=True)\n",
    "data['Humidity9am'].fillna(data['Humidity9am'].mode()[0], inplace=True)\n",
    "\n",
    "# Temperaturas e Pressão podem ser imputadas pela média por serem continuas\n",
    "# Velocidades também acho adequado usar média por serem bem menos dados, então se o preenchimento(caso incorreto) não impacta tanto o resultado\n",
    "data['MaxTemp'].fillna(data['MaxTemp'].mean(), inplace=True)\n",
    "data['MinTemp'].fillna(data['MinTemp'].mean(), inplace=True)\n",
    "data['Temp3pm'].fillna(data['Temp3pm'].mean(), inplace=True)\n",
    "data['Temp9am'].fillna(data['Temp9am'].mean(), inplace=True)\n",
    "data['Pressure3pm'].fillna(data['Pressure3pm'].mean(), inplace=True)\n",
    "data['Pressure9am'].fillna(data['Pressure9am'].mean(), inplace=True)\n",
    "data['WindGustSpeed'].fillna(data['WindGustSpeed'].mean(), inplace=True)\n",
    "data['WindSpeed3pm'].fillna(data['WindSpeed3pm'].mean(), inplace=True)\n",
    "data['WindSpeed9am'].fillna(data['WindSpeed9am'].mean(), inplace=True)\n",
    "\n",
    "# pronto agora todos os valores nulos estão preenchidos \n",
    "data.isnull().sum()\n",
    "\n",
    "#não houve necessidade de preencher a variável alvo pois ela já veio completamente preenchida\n"
   ]
  },
  {
   "cell_type": "code",
   "execution_count": 49,
   "metadata": {},
   "outputs": [
    {
     "name": "stdout",
     "output_type": "stream",
     "text": [
      "No     109586\n",
      "Yes     31201\n",
      "Name: RainTomorrow, dtype: int64\n",
      "No     0.778382\n",
      "Yes    0.221618\n",
      "Name: RainTomorrow, dtype: float64\n"
     ]
    }
   ],
   "source": [
    "print(data['RainTomorrow'].value_counts())\n",
    "print(data['RainTomorrow'].value_counts()/data['RainTomorrow'].count())"
   ]
  },
  {
   "cell_type": "markdown",
   "metadata": {},
   "source": [
    "### Etapa 3: Divisão treino-teste e normalização dos dados"
   ]
  },
  {
   "cell_type": "markdown",
   "metadata": {},
   "source": [
    "AQUI EU VOU USAR O MÉTODO HOLDOUT (70% treino/ 30% teste)"
   ]
  },
  {
   "cell_type": "code",
   "execution_count": 51,
   "metadata": {},
   "outputs": [
    {
     "data": {
      "text/plain": [
       "((140787, 16), (140787,))"
      ]
     },
     "execution_count": 51,
     "metadata": {},
     "output_type": "execute_result"
    }
   ],
   "source": [
    "# dividindo o dataset entre amostras e labels\n",
    "alldata_x = data.drop('RainTomorrow', axis=1)\n",
    "alldata_y = data['RainTomorrow']\n",
    "alldata_x.shape, alldata_y.shape"
   ]
  },
  {
   "cell_type": "code",
   "execution_count": null,
   "metadata": {},
   "outputs": [],
   "source": [
    "# Agora dividir entre treino e teste\n",
    "from sklearn.model_selection import train_test_split\n",
    "from sklearn.preprocessing import MinMaxScaler\n",
    "\n",
    "np.random.seed(seed_number)\n",
    "# Divisão Holdout 70% treino / 30% teste com estratificação\n",
    "X_train, X_test, y_train, y_test = train_test_split(alldata_x, alldata_y, test_size = 0.3, stratify=y, random_state = seed_number)\n",
    "X_train.shape, X_test.shape, y_train.shape, y_test.shape"
   ]
  }
 ],
 "metadata": {
  "interpreter": {
   "hash": "6410cc1b701a7ea2d3161c0742c4f1232a4743493fe675cff7264647281d8a14"
  },
  "kernelspec": {
   "display_name": "Python 3.9.7 ('xgboost_venv': venv)",
   "language": "python",
   "name": "python3"
  },
  "language_info": {
   "codemirror_mode": {
    "name": "ipython",
    "version": 3
   },
   "file_extension": ".py",
   "mimetype": "text/x-python",
   "name": "python",
   "nbconvert_exporter": "python",
   "pygments_lexer": "ipython3",
   "version": "3.9.7"
  },
  "orig_nbformat": 4
 },
 "nbformat": 4,
 "nbformat_minor": 2
}
